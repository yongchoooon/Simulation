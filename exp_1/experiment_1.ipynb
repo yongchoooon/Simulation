{
 "cells": [
  {
   "cell_type": "code",
   "execution_count": 1,
   "metadata": {},
   "outputs": [],
   "source": [
    "import pandas as pd\n",
    "import matplotlib.pyplot as plt\n",
    "import plotly.graph_objects as go\n",
    "import plotly.express as px\n",
    "\n",
    "df = pd.DataFrame(columns = ['NO_inventory', 'Total_output', 'Avg_working_steps', 'Avg_working_counts', 'Avg_cycle_steps'])"
   ]
  },
  {
   "cell_type": "code",
   "execution_count": 2,
   "metadata": {},
   "outputs": [],
   "source": [
    "def make_df(i, output, working_steps, working_counts):\n",
    "    df.loc[i] = [(60 - i*4 + 4), sum(output), round(sum(working_steps) / 6, 2), round(sum(working_counts) / 6, 2), round(sum(working_steps) / sum(working_counts), 2)]\n",
    "    df['NO_inventory'] = df['NO_inventory'].astype(int).astype(str)\n",
    "    df['Total_output'] = df['Total_output'].astype(int)"
   ]
  },
  {
   "cell_type": "markdown",
   "metadata": {},
   "source": [
    "## Experiment 1 - 모든 줄을 안쪽에서부터 4개씩 줄이기"
   ]
  },
  {
   "cell_type": "code",
   "execution_count": 3,
   "metadata": {},
   "outputs": [],
   "source": [
    "## Experiment 1-1 - Inventory 60\n",
    "output = [170, 165, 160, 160, 145, 145]\n",
    "working_steps = [2816, 2839, 2850, 2855, 2846, 2878]\n",
    "working_counts = [34, 33, 32, 32, 29, 29]\n",
    "make_df(1, output, working_steps, working_counts)\n",
    "\n",
    "## Experiment 1-2 - Inventory 56\n",
    "output = [165, 175, 165, 180, 130, 165]\n",
    "working_steps = [2847, 2807, 2820, 2837, 2889, 2880]\n",
    "working_counts = [33, 35, 33, 36, 26, 33]\n",
    "make_df(2, output, working_steps, working_counts)\n",
    "\n",
    "## Experiment 1-3 - Inventory 52\n",
    "output = [165, 175, 170, 175, 175, 165]\n",
    "working_steps = [2824, 2855, 2805, 2850, 2837, 2833]\n",
    "working_counts = [33, 35, 34, 35, 35, 33]\n",
    "make_df(3, output, working_steps, working_counts)\n",
    "\n",
    "## Experiment 1-4 - Inventory 48\n",
    "output = [175, 190, 180, 175, 185, 175]\n",
    "working_steps = [2844, 2824, 2796, 2834, 2837, 2841]\n",
    "working_counts = [35, 38, 36, 35, 37, 35]\n",
    "make_df(4, output, working_steps, working_counts)\n",
    "\n",
    "## Experiment 1-5 - Inventory 44\n",
    "output = [185, 180, 180, 185, 170, 190]\n",
    "working_steps = [2838, 2874, 2865, 2843, 2857, 2800]\n",
    "working_counts = [37, 36, 36, 37, 34, 38]\n",
    "make_df(5, output, working_steps, working_counts)\n",
    "\n",
    "## Experiment 1-6 - Inventory 40\n",
    "output = [195, 200, 175, 190, 180, 175]\n",
    "working_steps = [2798, 2828, 2853, 2852, 2874, 2844]\n",
    "working_counts = [39, 40, 35, 38, 36, 35]\n",
    "make_df(6, output, working_steps, working_counts)\n",
    "\n",
    "## Experiment 1-7 - Inventory 36\n",
    "output = [200, 185, 200, 190, 210, 185]\n",
    "working_steps = [2839, 2826, 2846, 2795, 2808, 2856]\n",
    "working_counts = [40, 37, 40, 38, 42, 37]\n",
    "make_df(7, output, working_steps, working_counts)\n",
    "\n",
    "## Experiment 1-8 - Inventory 32\n",
    "output = [195, 195, 190, 205, 185, 170]\n",
    "working_steps = [2848, 2807, 2863, 2824, 2862, 2866]\n",
    "working_counts = [39, 39, 38, 41, 37, 34]\n",
    "make_df(8, output, working_steps, working_counts)\n",
    "\n",
    "## Experiment 1-9 - Inventory 28\n",
    "output = [215, 190, 180, 190, 185, 190]\n",
    "working_steps = [2846, 2855, 2850, 2875, 2841, 2821]\n",
    "working_counts = [43, 38, 36, 38, 37, 38]\n",
    "make_df(9, output, working_steps, working_counts)\n",
    "\n",
    "## Experiment 1-10 - Inventory 24\n",
    "output = [190, 190, 190, 195, 190, 180]\n",
    "working_steps = [2900, 2816, 2894, 2882, 2864, 2841]\n",
    "working_counts = [38, 38, 38, 39, 38, 36]\n",
    "make_df(10, output, working_steps, working_counts)\n",
    "\n",
    "## Experiment 1-11 - Inventory 20\n",
    "output = [210, 220, 205, 185, 185, 190]\n",
    "working_steps = [2853, 2836, 2850, 2871, 2881, 2868]\n",
    "working_counts = [42, 44, 41, 37, 37, 38]\n",
    "make_df(11, output, working_steps, working_counts)\n",
    "\n",
    "## Experiment 1-12 - Inventory 16\n",
    "output = [215, 215, 185, 215, 195, 205]\n",
    "working_steps = [2897, 2874, 2856, 2856, 2867, 2871]\n",
    "working_counts = [43, 43, 37, 43, 39, 41]\n",
    "make_df(12, output, working_steps, working_counts)\n",
    "\n",
    "## Experiment 1-13 - Inventory 12\n",
    "output = [205, 195, 200, 195, 195, 185]\n",
    "working_steps = [2846, 2863, 2867, 2863, 2862, 2844]\n",
    "working_counts = [41, 39, 40, 39, 39, 37]\n",
    "make_df(13, output, working_steps, working_counts)\n",
    "\n",
    "## Experiment 1-14 - Inventory 8\n",
    "output = [190, 190, 180, 190, 180, 190]\n",
    "working_steps = [2903, 2923, 2910, 2907, 2899, 2898]\n",
    "working_counts = [38, 38, 36, 38, 36, 38]\n",
    "make_df(14, output, working_steps, working_counts)"
   ]
  },
  {
   "cell_type": "code",
   "execution_count": 5,
   "metadata": {},
   "outputs": [
    {
     "data": {
      "text/html": [
       "<div>\n",
       "<style scoped>\n",
       "    .dataframe tbody tr th:only-of-type {\n",
       "        vertical-align: middle;\n",
       "    }\n",
       "\n",
       "    .dataframe tbody tr th {\n",
       "        vertical-align: top;\n",
       "    }\n",
       "\n",
       "    .dataframe thead th {\n",
       "        text-align: right;\n",
       "    }\n",
       "</style>\n",
       "<table border=\"1\" class=\"dataframe\">\n",
       "  <thead>\n",
       "    <tr style=\"text-align: right;\">\n",
       "      <th></th>\n",
       "      <th>NO_inventory</th>\n",
       "      <th>Total_output</th>\n",
       "      <th>Avg_working_steps</th>\n",
       "      <th>Avg_working_counts</th>\n",
       "      <th>Avg_cycle_steps</th>\n",
       "    </tr>\n",
       "  </thead>\n",
       "  <tbody>\n",
       "    <tr>\n",
       "      <th>1</th>\n",
       "      <td>60</td>\n",
       "      <td>945</td>\n",
       "      <td>2847.33</td>\n",
       "      <td>31.50</td>\n",
       "      <td>90.39</td>\n",
       "    </tr>\n",
       "    <tr>\n",
       "      <th>2</th>\n",
       "      <td>56</td>\n",
       "      <td>980</td>\n",
       "      <td>2846.67</td>\n",
       "      <td>32.67</td>\n",
       "      <td>87.14</td>\n",
       "    </tr>\n",
       "    <tr>\n",
       "      <th>3</th>\n",
       "      <td>52</td>\n",
       "      <td>1025</td>\n",
       "      <td>2834.00</td>\n",
       "      <td>34.17</td>\n",
       "      <td>82.95</td>\n",
       "    </tr>\n",
       "    <tr>\n",
       "      <th>4</th>\n",
       "      <td>48</td>\n",
       "      <td>1080</td>\n",
       "      <td>2829.33</td>\n",
       "      <td>36.00</td>\n",
       "      <td>78.59</td>\n",
       "    </tr>\n",
       "    <tr>\n",
       "      <th>5</th>\n",
       "      <td>44</td>\n",
       "      <td>1090</td>\n",
       "      <td>2846.17</td>\n",
       "      <td>36.33</td>\n",
       "      <td>78.33</td>\n",
       "    </tr>\n",
       "    <tr>\n",
       "      <th>6</th>\n",
       "      <td>40</td>\n",
       "      <td>1115</td>\n",
       "      <td>2841.50</td>\n",
       "      <td>37.17</td>\n",
       "      <td>76.45</td>\n",
       "    </tr>\n",
       "    <tr>\n",
       "      <th>7</th>\n",
       "      <td>36</td>\n",
       "      <td>1170</td>\n",
       "      <td>2828.33</td>\n",
       "      <td>39.00</td>\n",
       "      <td>72.52</td>\n",
       "    </tr>\n",
       "    <tr>\n",
       "      <th>8</th>\n",
       "      <td>32</td>\n",
       "      <td>1140</td>\n",
       "      <td>2845.00</td>\n",
       "      <td>38.00</td>\n",
       "      <td>74.87</td>\n",
       "    </tr>\n",
       "    <tr>\n",
       "      <th>9</th>\n",
       "      <td>28</td>\n",
       "      <td>1150</td>\n",
       "      <td>2848.00</td>\n",
       "      <td>38.33</td>\n",
       "      <td>74.30</td>\n",
       "    </tr>\n",
       "    <tr>\n",
       "      <th>10</th>\n",
       "      <td>24</td>\n",
       "      <td>1135</td>\n",
       "      <td>2866.17</td>\n",
       "      <td>37.83</td>\n",
       "      <td>75.76</td>\n",
       "    </tr>\n",
       "    <tr>\n",
       "      <th>11</th>\n",
       "      <td>20</td>\n",
       "      <td>1195</td>\n",
       "      <td>2859.83</td>\n",
       "      <td>39.83</td>\n",
       "      <td>71.79</td>\n",
       "    </tr>\n",
       "    <tr>\n",
       "      <th>12</th>\n",
       "      <td>16</td>\n",
       "      <td>1230</td>\n",
       "      <td>2870.17</td>\n",
       "      <td>41.00</td>\n",
       "      <td>70.00</td>\n",
       "    </tr>\n",
       "    <tr>\n",
       "      <th>13</th>\n",
       "      <td>12</td>\n",
       "      <td>1175</td>\n",
       "      <td>2857.50</td>\n",
       "      <td>39.17</td>\n",
       "      <td>72.96</td>\n",
       "    </tr>\n",
       "    <tr>\n",
       "      <th>14</th>\n",
       "      <td>8</td>\n",
       "      <td>1120</td>\n",
       "      <td>2906.67</td>\n",
       "      <td>37.33</td>\n",
       "      <td>77.86</td>\n",
       "    </tr>\n",
       "  </tbody>\n",
       "</table>\n",
       "</div>"
      ],
      "text/plain": [
       "   NO_inventory  Total_output  Avg_working_steps  Avg_working_counts  \\\n",
       "1            60           945            2847.33               31.50   \n",
       "2            56           980            2846.67               32.67   \n",
       "3            52          1025            2834.00               34.17   \n",
       "4            48          1080            2829.33               36.00   \n",
       "5            44          1090            2846.17               36.33   \n",
       "6            40          1115            2841.50               37.17   \n",
       "7            36          1170            2828.33               39.00   \n",
       "8            32          1140            2845.00               38.00   \n",
       "9            28          1150            2848.00               38.33   \n",
       "10           24          1135            2866.17               37.83   \n",
       "11           20          1195            2859.83               39.83   \n",
       "12           16          1230            2870.17               41.00   \n",
       "13           12          1175            2857.50               39.17   \n",
       "14            8          1120            2906.67               37.33   \n",
       "\n",
       "    Avg_cycle_steps  \n",
       "1             90.39  \n",
       "2             87.14  \n",
       "3             82.95  \n",
       "4             78.59  \n",
       "5             78.33  \n",
       "6             76.45  \n",
       "7             72.52  \n",
       "8             74.87  \n",
       "9             74.30  \n",
       "10            75.76  \n",
       "11            71.79  \n",
       "12            70.00  \n",
       "13            72.96  \n",
       "14            77.86  "
      ]
     },
     "execution_count": 5,
     "metadata": {},
     "output_type": "execute_result"
    }
   ],
   "source": [
    "df"
   ]
  },
  {
   "cell_type": "code",
   "execution_count": 4,
   "metadata": {},
   "outputs": [
    {
     "data": {
      "application/vnd.plotly.v1+json": {
       "config": {
        "plotlyServerURL": "https://plot.ly"
       },
       "data": [
        {
         "hovertemplate": "NO_inventory=%{x}<br>Total_output=%{y}<extra></extra>",
         "legendgroup": "",
         "line": {
          "color": "#636efa",
          "dash": "solid"
         },
         "marker": {
          "symbol": "circle"
         },
         "mode": "lines",
         "name": "",
         "orientation": "v",
         "showlegend": false,
         "type": "scatter",
         "x": [
          "60",
          "56",
          "52",
          "48",
          "44",
          "40",
          "36",
          "32",
          "28",
          "24",
          "20",
          "16",
          "12",
          "8"
         ],
         "xaxis": "x",
         "y": [
          945,
          980,
          1025,
          1080,
          1090,
          1115,
          1170,
          1140,
          1150,
          1135,
          1195,
          1230,
          1175,
          1120
         ],
         "yaxis": "y"
        }
       ],
       "layout": {
        "legend": {
         "tracegroupgap": 0
        },
        "template": {
         "data": {
          "bar": [
           {
            "error_x": {
             "color": "#2a3f5f"
            },
            "error_y": {
             "color": "#2a3f5f"
            },
            "marker": {
             "line": {
              "color": "#E5ECF6",
              "width": 0.5
             },
             "pattern": {
              "fillmode": "overlay",
              "size": 10,
              "solidity": 0.2
             }
            },
            "type": "bar"
           }
          ],
          "barpolar": [
           {
            "marker": {
             "line": {
              "color": "#E5ECF6",
              "width": 0.5
             },
             "pattern": {
              "fillmode": "overlay",
              "size": 10,
              "solidity": 0.2
             }
            },
            "type": "barpolar"
           }
          ],
          "carpet": [
           {
            "aaxis": {
             "endlinecolor": "#2a3f5f",
             "gridcolor": "white",
             "linecolor": "white",
             "minorgridcolor": "white",
             "startlinecolor": "#2a3f5f"
            },
            "baxis": {
             "endlinecolor": "#2a3f5f",
             "gridcolor": "white",
             "linecolor": "white",
             "minorgridcolor": "white",
             "startlinecolor": "#2a3f5f"
            },
            "type": "carpet"
           }
          ],
          "choropleth": [
           {
            "colorbar": {
             "outlinewidth": 0,
             "ticks": ""
            },
            "type": "choropleth"
           }
          ],
          "contour": [
           {
            "colorbar": {
             "outlinewidth": 0,
             "ticks": ""
            },
            "colorscale": [
             [
              0,
              "#0d0887"
             ],
             [
              0.1111111111111111,
              "#46039f"
             ],
             [
              0.2222222222222222,
              "#7201a8"
             ],
             [
              0.3333333333333333,
              "#9c179e"
             ],
             [
              0.4444444444444444,
              "#bd3786"
             ],
             [
              0.5555555555555556,
              "#d8576b"
             ],
             [
              0.6666666666666666,
              "#ed7953"
             ],
             [
              0.7777777777777778,
              "#fb9f3a"
             ],
             [
              0.8888888888888888,
              "#fdca26"
             ],
             [
              1,
              "#f0f921"
             ]
            ],
            "type": "contour"
           }
          ],
          "contourcarpet": [
           {
            "colorbar": {
             "outlinewidth": 0,
             "ticks": ""
            },
            "type": "contourcarpet"
           }
          ],
          "heatmap": [
           {
            "colorbar": {
             "outlinewidth": 0,
             "ticks": ""
            },
            "colorscale": [
             [
              0,
              "#0d0887"
             ],
             [
              0.1111111111111111,
              "#46039f"
             ],
             [
              0.2222222222222222,
              "#7201a8"
             ],
             [
              0.3333333333333333,
              "#9c179e"
             ],
             [
              0.4444444444444444,
              "#bd3786"
             ],
             [
              0.5555555555555556,
              "#d8576b"
             ],
             [
              0.6666666666666666,
              "#ed7953"
             ],
             [
              0.7777777777777778,
              "#fb9f3a"
             ],
             [
              0.8888888888888888,
              "#fdca26"
             ],
             [
              1,
              "#f0f921"
             ]
            ],
            "type": "heatmap"
           }
          ],
          "heatmapgl": [
           {
            "colorbar": {
             "outlinewidth": 0,
             "ticks": ""
            },
            "colorscale": [
             [
              0,
              "#0d0887"
             ],
             [
              0.1111111111111111,
              "#46039f"
             ],
             [
              0.2222222222222222,
              "#7201a8"
             ],
             [
              0.3333333333333333,
              "#9c179e"
             ],
             [
              0.4444444444444444,
              "#bd3786"
             ],
             [
              0.5555555555555556,
              "#d8576b"
             ],
             [
              0.6666666666666666,
              "#ed7953"
             ],
             [
              0.7777777777777778,
              "#fb9f3a"
             ],
             [
              0.8888888888888888,
              "#fdca26"
             ],
             [
              1,
              "#f0f921"
             ]
            ],
            "type": "heatmapgl"
           }
          ],
          "histogram": [
           {
            "marker": {
             "pattern": {
              "fillmode": "overlay",
              "size": 10,
              "solidity": 0.2
             }
            },
            "type": "histogram"
           }
          ],
          "histogram2d": [
           {
            "colorbar": {
             "outlinewidth": 0,
             "ticks": ""
            },
            "colorscale": [
             [
              0,
              "#0d0887"
             ],
             [
              0.1111111111111111,
              "#46039f"
             ],
             [
              0.2222222222222222,
              "#7201a8"
             ],
             [
              0.3333333333333333,
              "#9c179e"
             ],
             [
              0.4444444444444444,
              "#bd3786"
             ],
             [
              0.5555555555555556,
              "#d8576b"
             ],
             [
              0.6666666666666666,
              "#ed7953"
             ],
             [
              0.7777777777777778,
              "#fb9f3a"
             ],
             [
              0.8888888888888888,
              "#fdca26"
             ],
             [
              1,
              "#f0f921"
             ]
            ],
            "type": "histogram2d"
           }
          ],
          "histogram2dcontour": [
           {
            "colorbar": {
             "outlinewidth": 0,
             "ticks": ""
            },
            "colorscale": [
             [
              0,
              "#0d0887"
             ],
             [
              0.1111111111111111,
              "#46039f"
             ],
             [
              0.2222222222222222,
              "#7201a8"
             ],
             [
              0.3333333333333333,
              "#9c179e"
             ],
             [
              0.4444444444444444,
              "#bd3786"
             ],
             [
              0.5555555555555556,
              "#d8576b"
             ],
             [
              0.6666666666666666,
              "#ed7953"
             ],
             [
              0.7777777777777778,
              "#fb9f3a"
             ],
             [
              0.8888888888888888,
              "#fdca26"
             ],
             [
              1,
              "#f0f921"
             ]
            ],
            "type": "histogram2dcontour"
           }
          ],
          "mesh3d": [
           {
            "colorbar": {
             "outlinewidth": 0,
             "ticks": ""
            },
            "type": "mesh3d"
           }
          ],
          "parcoords": [
           {
            "line": {
             "colorbar": {
              "outlinewidth": 0,
              "ticks": ""
             }
            },
            "type": "parcoords"
           }
          ],
          "pie": [
           {
            "automargin": true,
            "type": "pie"
           }
          ],
          "scatter": [
           {
            "fillpattern": {
             "fillmode": "overlay",
             "size": 10,
             "solidity": 0.2
            },
            "type": "scatter"
           }
          ],
          "scatter3d": [
           {
            "line": {
             "colorbar": {
              "outlinewidth": 0,
              "ticks": ""
             }
            },
            "marker": {
             "colorbar": {
              "outlinewidth": 0,
              "ticks": ""
             }
            },
            "type": "scatter3d"
           }
          ],
          "scattercarpet": [
           {
            "marker": {
             "colorbar": {
              "outlinewidth": 0,
              "ticks": ""
             }
            },
            "type": "scattercarpet"
           }
          ],
          "scattergeo": [
           {
            "marker": {
             "colorbar": {
              "outlinewidth": 0,
              "ticks": ""
             }
            },
            "type": "scattergeo"
           }
          ],
          "scattergl": [
           {
            "marker": {
             "colorbar": {
              "outlinewidth": 0,
              "ticks": ""
             }
            },
            "type": "scattergl"
           }
          ],
          "scattermapbox": [
           {
            "marker": {
             "colorbar": {
              "outlinewidth": 0,
              "ticks": ""
             }
            },
            "type": "scattermapbox"
           }
          ],
          "scatterpolar": [
           {
            "marker": {
             "colorbar": {
              "outlinewidth": 0,
              "ticks": ""
             }
            },
            "type": "scatterpolar"
           }
          ],
          "scatterpolargl": [
           {
            "marker": {
             "colorbar": {
              "outlinewidth": 0,
              "ticks": ""
             }
            },
            "type": "scatterpolargl"
           }
          ],
          "scatterternary": [
           {
            "marker": {
             "colorbar": {
              "outlinewidth": 0,
              "ticks": ""
             }
            },
            "type": "scatterternary"
           }
          ],
          "surface": [
           {
            "colorbar": {
             "outlinewidth": 0,
             "ticks": ""
            },
            "colorscale": [
             [
              0,
              "#0d0887"
             ],
             [
              0.1111111111111111,
              "#46039f"
             ],
             [
              0.2222222222222222,
              "#7201a8"
             ],
             [
              0.3333333333333333,
              "#9c179e"
             ],
             [
              0.4444444444444444,
              "#bd3786"
             ],
             [
              0.5555555555555556,
              "#d8576b"
             ],
             [
              0.6666666666666666,
              "#ed7953"
             ],
             [
              0.7777777777777778,
              "#fb9f3a"
             ],
             [
              0.8888888888888888,
              "#fdca26"
             ],
             [
              1,
              "#f0f921"
             ]
            ],
            "type": "surface"
           }
          ],
          "table": [
           {
            "cells": {
             "fill": {
              "color": "#EBF0F8"
             },
             "line": {
              "color": "white"
             }
            },
            "header": {
             "fill": {
              "color": "#C8D4E3"
             },
             "line": {
              "color": "white"
             }
            },
            "type": "table"
           }
          ]
         },
         "layout": {
          "annotationdefaults": {
           "arrowcolor": "#2a3f5f",
           "arrowhead": 0,
           "arrowwidth": 1
          },
          "autotypenumbers": "strict",
          "coloraxis": {
           "colorbar": {
            "outlinewidth": 0,
            "ticks": ""
           }
          },
          "colorscale": {
           "diverging": [
            [
             0,
             "#8e0152"
            ],
            [
             0.1,
             "#c51b7d"
            ],
            [
             0.2,
             "#de77ae"
            ],
            [
             0.3,
             "#f1b6da"
            ],
            [
             0.4,
             "#fde0ef"
            ],
            [
             0.5,
             "#f7f7f7"
            ],
            [
             0.6,
             "#e6f5d0"
            ],
            [
             0.7,
             "#b8e186"
            ],
            [
             0.8,
             "#7fbc41"
            ],
            [
             0.9,
             "#4d9221"
            ],
            [
             1,
             "#276419"
            ]
           ],
           "sequential": [
            [
             0,
             "#0d0887"
            ],
            [
             0.1111111111111111,
             "#46039f"
            ],
            [
             0.2222222222222222,
             "#7201a8"
            ],
            [
             0.3333333333333333,
             "#9c179e"
            ],
            [
             0.4444444444444444,
             "#bd3786"
            ],
            [
             0.5555555555555556,
             "#d8576b"
            ],
            [
             0.6666666666666666,
             "#ed7953"
            ],
            [
             0.7777777777777778,
             "#fb9f3a"
            ],
            [
             0.8888888888888888,
             "#fdca26"
            ],
            [
             1,
             "#f0f921"
            ]
           ],
           "sequentialminus": [
            [
             0,
             "#0d0887"
            ],
            [
             0.1111111111111111,
             "#46039f"
            ],
            [
             0.2222222222222222,
             "#7201a8"
            ],
            [
             0.3333333333333333,
             "#9c179e"
            ],
            [
             0.4444444444444444,
             "#bd3786"
            ],
            [
             0.5555555555555556,
             "#d8576b"
            ],
            [
             0.6666666666666666,
             "#ed7953"
            ],
            [
             0.7777777777777778,
             "#fb9f3a"
            ],
            [
             0.8888888888888888,
             "#fdca26"
            ],
            [
             1,
             "#f0f921"
            ]
           ]
          },
          "colorway": [
           "#636efa",
           "#EF553B",
           "#00cc96",
           "#ab63fa",
           "#FFA15A",
           "#19d3f3",
           "#FF6692",
           "#B6E880",
           "#FF97FF",
           "#FECB52"
          ],
          "font": {
           "color": "#2a3f5f"
          },
          "geo": {
           "bgcolor": "white",
           "lakecolor": "white",
           "landcolor": "#E5ECF6",
           "showlakes": true,
           "showland": true,
           "subunitcolor": "white"
          },
          "hoverlabel": {
           "align": "left"
          },
          "hovermode": "closest",
          "mapbox": {
           "style": "light"
          },
          "paper_bgcolor": "white",
          "plot_bgcolor": "#E5ECF6",
          "polar": {
           "angularaxis": {
            "gridcolor": "white",
            "linecolor": "white",
            "ticks": ""
           },
           "bgcolor": "#E5ECF6",
           "radialaxis": {
            "gridcolor": "white",
            "linecolor": "white",
            "ticks": ""
           }
          },
          "scene": {
           "xaxis": {
            "backgroundcolor": "#E5ECF6",
            "gridcolor": "white",
            "gridwidth": 2,
            "linecolor": "white",
            "showbackground": true,
            "ticks": "",
            "zerolinecolor": "white"
           },
           "yaxis": {
            "backgroundcolor": "#E5ECF6",
            "gridcolor": "white",
            "gridwidth": 2,
            "linecolor": "white",
            "showbackground": true,
            "ticks": "",
            "zerolinecolor": "white"
           },
           "zaxis": {
            "backgroundcolor": "#E5ECF6",
            "gridcolor": "white",
            "gridwidth": 2,
            "linecolor": "white",
            "showbackground": true,
            "ticks": "",
            "zerolinecolor": "white"
           }
          },
          "shapedefaults": {
           "line": {
            "color": "#2a3f5f"
           }
          },
          "ternary": {
           "aaxis": {
            "gridcolor": "white",
            "linecolor": "white",
            "ticks": ""
           },
           "baxis": {
            "gridcolor": "white",
            "linecolor": "white",
            "ticks": ""
           },
           "bgcolor": "#E5ECF6",
           "caxis": {
            "gridcolor": "white",
            "linecolor": "white",
            "ticks": ""
           }
          },
          "title": {
           "x": 0.05
          },
          "xaxis": {
           "automargin": true,
           "gridcolor": "white",
           "linecolor": "white",
           "ticks": "",
           "title": {
            "standoff": 15
           },
           "zerolinecolor": "white",
           "zerolinewidth": 2
          },
          "yaxis": {
           "automargin": true,
           "gridcolor": "white",
           "linecolor": "white",
           "ticks": "",
           "title": {
            "standoff": 15
           },
           "zerolinecolor": "white",
           "zerolinewidth": 2
          }
         }
        },
        "title": {
         "text": "Total output"
        },
        "xaxis": {
         "anchor": "y",
         "domain": [
          0,
          1
         ],
         "title": {
          "text": "NO_inventory"
         }
        },
        "yaxis": {
         "anchor": "x",
         "domain": [
          0,
          1
         ],
         "title": {
          "text": "Total_output"
         }
        }
       }
      }
     },
     "metadata": {},
     "output_type": "display_data"
    }
   ],
   "source": [
    "df['NO_inventory'] = df['NO_inventory'].astype(int).astype(str)\n",
    "\n",
    "fig = px.line(df, x = \"NO_inventory\", y = \"Total_output\", title = \"Total output\")\n",
    "fig.show()"
   ]
  }
 ],
 "metadata": {
  "kernelspec": {
   "display_name": "Python 3.9.15 ('da')",
   "language": "python",
   "name": "python3"
  },
  "language_info": {
   "codemirror_mode": {
    "name": "ipython",
    "version": 3
   },
   "file_extension": ".py",
   "mimetype": "text/x-python",
   "name": "python",
   "nbconvert_exporter": "python",
   "pygments_lexer": "ipython3",
   "version": "3.9.15"
  },
  "orig_nbformat": 4,
  "vscode": {
   "interpreter": {
    "hash": "4e2a8d64e7ffb59922116bf2b76f6cd1dc2829a8c191a52212b13727f5f36342"
   }
  }
 },
 "nbformat": 4,
 "nbformat_minor": 2
}
