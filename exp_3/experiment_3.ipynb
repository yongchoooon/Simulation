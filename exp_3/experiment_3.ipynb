{
 "cells": [
  {
   "cell_type": "code",
   "execution_count": 5,
   "metadata": {},
   "outputs": [],
   "source": [
    "import pandas as pd\n",
    "import matplotlib.pyplot as plt\n",
    "import plotly.graph_objects as go\n",
    "import plotly.express as px\n",
    "\n",
    "df = pd.DataFrame(columns = ['NO_inventory', 'Total_output', 'Avg_working_steps', 'Avg_working_counts', 'Avg_cycle_steps'])"
   ]
  },
  {
   "cell_type": "code",
   "execution_count": 6,
   "metadata": {},
   "outputs": [],
   "source": [
    "def make_df(i, output, working_steps, working_counts):\n",
    "    df.loc[i] = [(60 - i*4 + 4), sum(output), round(sum(working_steps) / 6, 2), round(sum(working_counts) / 6, 2), round(sum(working_steps) / sum(working_counts), 2)]\n",
    "    df['NO_inventory'] = df['NO_inventory'].astype(int).astype(str)\n",
    "    df['Total_output'] = df['Total_output'].astype(int)"
   ]
  },
  {
   "cell_type": "markdown",
   "metadata": {},
   "source": [
    "## Experiment 3 - Experiment 2와 같은 진열대에서 다음과 같은 조건 추가\n",
    "- 한 진열대에 5명의 에이전트가 도착하면 50 steps 동안 진열대 앞은 지나갈 수 없음"
   ]
  },
  {
   "cell_type": "code",
   "execution_count": 7,
   "metadata": {},
   "outputs": [],
   "source": [
    "## Experiment 1-1 - Inventory 60\n",
    "output = [155, 150, 145, 155, 150, 150]\n",
    "working_steps = [2861, 2873, 2829, 2827, 2884, 2841]\n",
    "working_counts = [31, 30, 29, 31, 30, 30]\n",
    "make_df(1, output, working_steps, working_counts)\n",
    "\n",
    "## Experiment 1-2 - Inventory 56\n",
    "output = [140, 155, 155, 150, 130, 140]\n",
    "working_steps = [2823, 2839, 2856, 2799, 2835, 2804]\n",
    "working_counts = [28, 31, 31, 30, 26, 28]\n",
    "make_df(2, output, working_steps, working_counts)\n",
    "\n",
    "## Experiment 1-3 - Inventory 52\n",
    "output = [170, 160, 155, 155, 165, 150]\n",
    "working_steps = [2806, 2830, 2848, 2807, 2769, 2871]\n",
    "working_counts = [34, 32, 31, 31, 33, 30]\n",
    "make_df(3, output, working_steps, working_counts)\n",
    "\n",
    "## Experiment 1-4 - Inventory 48\n",
    "output = [170, 155, 160, 155, 165, 155]\n",
    "working_steps = [2847, 2859, 2832, 2853, 2843, 2830]\n",
    "working_counts = [34, 31, 32, 31, 33, 31]\n",
    "make_df(4, output, working_steps, working_counts)\n",
    "\n",
    "## Experiment 1-5 - Inventory 44\n",
    "output = [175, 170, 155, 165, 165, 170]\n",
    "working_steps = [2820, 2873, 2842, 2816, 2854, 2845]\n",
    "working_counts = [35, 34, 31, 33, 33, 34]\n",
    "make_df(5, output, working_steps, working_counts)\n",
    "\n",
    "## Experiment 1-6 - Inventory 40\n",
    "output = [170, 165, 170, 160, 150, 165]\n",
    "working_steps = [2846, 2814, 2873, 2870, 2860, 2885]\n",
    "working_counts = [34, 33, 34, 32, 30, 33]\n",
    "make_df(6, output, working_steps, working_counts)\n",
    "\n",
    "## Experiment 1-7 - Inventory 36\n",
    "output = [180, 185, 155, 175, 165, 160]\n",
    "working_steps = [2835, 2863, 2874, 2846, 2852, 2817]\n",
    "working_counts = [36, 37, 31, 35, 33, 32]\n",
    "make_df(7, output, working_steps, working_counts)\n",
    "\n",
    "## Experiment 1-8 - Inventory 32\n",
    "output = [175, 165, 180, 155, 170, 165]\n",
    "working_steps = [2857, 2869, 2829, 2865, 2879, 2858]\n",
    "working_counts = [35, 33, 36, 31, 34, 33]\n",
    "make_df(8, output, working_steps, working_counts)\n",
    "\n",
    "## Experiment 1-9 - Inventory 28\n",
    "output = [170, 200, 180, 175, 170, 165]\n",
    "working_steps = [2880, 2832, 2842, 2875, 2863, 2876]\n",
    "working_counts = [34, 40, 36, 35, 34, 33]\n",
    "make_df(9, output, working_steps, working_counts)\n",
    "\n",
    "## Experiment 1-10 - Inventory 24\n",
    "output = [185, 175, 185, 170, 160, 175]\n",
    "working_steps = [2855, 2876, 2869, 2882, 2869, 2843]\n",
    "working_counts = [37, 35, 37, 34, 32, 35]\n",
    "make_df(10, output, working_steps, working_counts)\n",
    "\n",
    "## Experiment 1-11 - Inventory 20\n",
    "output = [175, 155, 195, 180, 165, 145]\n",
    "working_steps = [2874, 2866, 2861, 2857, 2813, 2863]\n",
    "working_counts = [35, 31, 39, 36, 33, 29]\n",
    "make_df(11, output, working_steps, working_counts)\n",
    "\n",
    "## Experiment 1-12 - Inventory 16\n",
    "output = [180, 160, 170, 170, 165, 145]\n",
    "working_steps = [2844, 2893, 2864, 2858, 2877, 2842]\n",
    "working_counts = [36, 32, 34, 34, 33, 29]\n",
    "make_df(12, output, working_steps, working_counts)\n",
    "\n",
    "## Experiment 1-13 - Inventory 12\n",
    "output = [170, 165, 150, 165, 165, 170]\n",
    "working_steps = [2881, 2871, 2886, 2865, 2900, 2865]\n",
    "working_counts = [34, 33, 30, 33, 33, 34]\n",
    "make_df(13, output, working_steps, working_counts)\n",
    "\n",
    "## Experiment 1-14 - Inventory 8\n",
    "output = [125, 135, 125, 120, 130, 120]\n",
    "working_steps = [2924, 2918, 2928, 2920, 2942, 2939]\n",
    "working_counts = [25, 27, 25, 24, 26, 24]\n",
    "make_df(14, output, working_steps, working_counts)"
   ]
  },
  {
   "cell_type": "code",
   "execution_count": 9,
   "metadata": {},
   "outputs": [
    {
     "data": {
      "text/html": [
       "<div>\n",
       "<style scoped>\n",
       "    .dataframe tbody tr th:only-of-type {\n",
       "        vertical-align: middle;\n",
       "    }\n",
       "\n",
       "    .dataframe tbody tr th {\n",
       "        vertical-align: top;\n",
       "    }\n",
       "\n",
       "    .dataframe thead th {\n",
       "        text-align: right;\n",
       "    }\n",
       "</style>\n",
       "<table border=\"1\" class=\"dataframe\">\n",
       "  <thead>\n",
       "    <tr style=\"text-align: right;\">\n",
       "      <th></th>\n",
       "      <th>NO_inventory</th>\n",
       "      <th>Total_output</th>\n",
       "      <th>Avg_working_steps</th>\n",
       "      <th>Avg_working_counts</th>\n",
       "      <th>Avg_cycle_steps</th>\n",
       "    </tr>\n",
       "  </thead>\n",
       "  <tbody>\n",
       "    <tr>\n",
       "      <th>1</th>\n",
       "      <td>60</td>\n",
       "      <td>905</td>\n",
       "      <td>2852.50</td>\n",
       "      <td>30.17</td>\n",
       "      <td>94.56</td>\n",
       "    </tr>\n",
       "    <tr>\n",
       "      <th>2</th>\n",
       "      <td>56</td>\n",
       "      <td>870</td>\n",
       "      <td>2826.00</td>\n",
       "      <td>29.00</td>\n",
       "      <td>97.45</td>\n",
       "    </tr>\n",
       "    <tr>\n",
       "      <th>3</th>\n",
       "      <td>52</td>\n",
       "      <td>955</td>\n",
       "      <td>2821.83</td>\n",
       "      <td>31.83</td>\n",
       "      <td>88.64</td>\n",
       "    </tr>\n",
       "    <tr>\n",
       "      <th>4</th>\n",
       "      <td>48</td>\n",
       "      <td>960</td>\n",
       "      <td>2844.00</td>\n",
       "      <td>32.00</td>\n",
       "      <td>88.88</td>\n",
       "    </tr>\n",
       "    <tr>\n",
       "      <th>5</th>\n",
       "      <td>44</td>\n",
       "      <td>1000</td>\n",
       "      <td>2841.67</td>\n",
       "      <td>33.33</td>\n",
       "      <td>85.25</td>\n",
       "    </tr>\n",
       "    <tr>\n",
       "      <th>6</th>\n",
       "      <td>40</td>\n",
       "      <td>980</td>\n",
       "      <td>2858.00</td>\n",
       "      <td>32.67</td>\n",
       "      <td>87.49</td>\n",
       "    </tr>\n",
       "    <tr>\n",
       "      <th>7</th>\n",
       "      <td>36</td>\n",
       "      <td>1020</td>\n",
       "      <td>2847.83</td>\n",
       "      <td>34.00</td>\n",
       "      <td>83.76</td>\n",
       "    </tr>\n",
       "    <tr>\n",
       "      <th>8</th>\n",
       "      <td>32</td>\n",
       "      <td>1010</td>\n",
       "      <td>2859.50</td>\n",
       "      <td>33.67</td>\n",
       "      <td>84.94</td>\n",
       "    </tr>\n",
       "    <tr>\n",
       "      <th>9</th>\n",
       "      <td>28</td>\n",
       "      <td>1060</td>\n",
       "      <td>2861.33</td>\n",
       "      <td>35.33</td>\n",
       "      <td>80.98</td>\n",
       "    </tr>\n",
       "    <tr>\n",
       "      <th>10</th>\n",
       "      <td>24</td>\n",
       "      <td>1050</td>\n",
       "      <td>2865.67</td>\n",
       "      <td>35.00</td>\n",
       "      <td>81.88</td>\n",
       "    </tr>\n",
       "    <tr>\n",
       "      <th>11</th>\n",
       "      <td>20</td>\n",
       "      <td>1015</td>\n",
       "      <td>2855.67</td>\n",
       "      <td>33.83</td>\n",
       "      <td>84.40</td>\n",
       "    </tr>\n",
       "    <tr>\n",
       "      <th>12</th>\n",
       "      <td>16</td>\n",
       "      <td>990</td>\n",
       "      <td>2863.00</td>\n",
       "      <td>33.00</td>\n",
       "      <td>86.76</td>\n",
       "    </tr>\n",
       "    <tr>\n",
       "      <th>13</th>\n",
       "      <td>12</td>\n",
       "      <td>985</td>\n",
       "      <td>2878.00</td>\n",
       "      <td>32.83</td>\n",
       "      <td>87.65</td>\n",
       "    </tr>\n",
       "    <tr>\n",
       "      <th>14</th>\n",
       "      <td>8</td>\n",
       "      <td>755</td>\n",
       "      <td>2928.50</td>\n",
       "      <td>25.17</td>\n",
       "      <td>116.36</td>\n",
       "    </tr>\n",
       "  </tbody>\n",
       "</table>\n",
       "</div>"
      ],
      "text/plain": [
       "   NO_inventory  Total_output  Avg_working_steps  Avg_working_counts  \\\n",
       "1            60           905            2852.50               30.17   \n",
       "2            56           870            2826.00               29.00   \n",
       "3            52           955            2821.83               31.83   \n",
       "4            48           960            2844.00               32.00   \n",
       "5            44          1000            2841.67               33.33   \n",
       "6            40           980            2858.00               32.67   \n",
       "7            36          1020            2847.83               34.00   \n",
       "8            32          1010            2859.50               33.67   \n",
       "9            28          1060            2861.33               35.33   \n",
       "10           24          1050            2865.67               35.00   \n",
       "11           20          1015            2855.67               33.83   \n",
       "12           16           990            2863.00               33.00   \n",
       "13           12           985            2878.00               32.83   \n",
       "14            8           755            2928.50               25.17   \n",
       "\n",
       "    Avg_cycle_steps  \n",
       "1             94.56  \n",
       "2             97.45  \n",
       "3             88.64  \n",
       "4             88.88  \n",
       "5             85.25  \n",
       "6             87.49  \n",
       "7             83.76  \n",
       "8             84.94  \n",
       "9             80.98  \n",
       "10            81.88  \n",
       "11            84.40  \n",
       "12            86.76  \n",
       "13            87.65  \n",
       "14           116.36  "
      ]
     },
     "execution_count": 9,
     "metadata": {},
     "output_type": "execute_result"
    }
   ],
   "source": [
    "df"
   ]
  },
  {
   "cell_type": "code",
   "execution_count": 8,
   "metadata": {},
   "outputs": [
    {
     "data": {
      "application/vnd.plotly.v1+json": {
       "config": {
        "plotlyServerURL": "https://plot.ly"
       },
       "data": [
        {
         "hovertemplate": "NO_inventory=%{x}<br>Total_output=%{y}<extra></extra>",
         "legendgroup": "",
         "line": {
          "color": "#636efa",
          "dash": "solid"
         },
         "marker": {
          "symbol": "circle"
         },
         "mode": "lines",
         "name": "",
         "orientation": "v",
         "showlegend": false,
         "type": "scatter",
         "x": [
          "60",
          "56",
          "52",
          "48",
          "44",
          "40",
          "36",
          "32",
          "28",
          "24",
          "20",
          "16",
          "12",
          "8"
         ],
         "xaxis": "x",
         "y": [
          905,
          870,
          955,
          960,
          1000,
          980,
          1020,
          1010,
          1060,
          1050,
          1015,
          990,
          985,
          755
         ],
         "yaxis": "y"
        }
       ],
       "layout": {
        "legend": {
         "tracegroupgap": 0
        },
        "template": {
         "data": {
          "bar": [
           {
            "error_x": {
             "color": "#2a3f5f"
            },
            "error_y": {
             "color": "#2a3f5f"
            },
            "marker": {
             "line": {
              "color": "#E5ECF6",
              "width": 0.5
             },
             "pattern": {
              "fillmode": "overlay",
              "size": 10,
              "solidity": 0.2
             }
            },
            "type": "bar"
           }
          ],
          "barpolar": [
           {
            "marker": {
             "line": {
              "color": "#E5ECF6",
              "width": 0.5
             },
             "pattern": {
              "fillmode": "overlay",
              "size": 10,
              "solidity": 0.2
             }
            },
            "type": "barpolar"
           }
          ],
          "carpet": [
           {
            "aaxis": {
             "endlinecolor": "#2a3f5f",
             "gridcolor": "white",
             "linecolor": "white",
             "minorgridcolor": "white",
             "startlinecolor": "#2a3f5f"
            },
            "baxis": {
             "endlinecolor": "#2a3f5f",
             "gridcolor": "white",
             "linecolor": "white",
             "minorgridcolor": "white",
             "startlinecolor": "#2a3f5f"
            },
            "type": "carpet"
           }
          ],
          "choropleth": [
           {
            "colorbar": {
             "outlinewidth": 0,
             "ticks": ""
            },
            "type": "choropleth"
           }
          ],
          "contour": [
           {
            "colorbar": {
             "outlinewidth": 0,
             "ticks": ""
            },
            "colorscale": [
             [
              0,
              "#0d0887"
             ],
             [
              0.1111111111111111,
              "#46039f"
             ],
             [
              0.2222222222222222,
              "#7201a8"
             ],
             [
              0.3333333333333333,
              "#9c179e"
             ],
             [
              0.4444444444444444,
              "#bd3786"
             ],
             [
              0.5555555555555556,
              "#d8576b"
             ],
             [
              0.6666666666666666,
              "#ed7953"
             ],
             [
              0.7777777777777778,
              "#fb9f3a"
             ],
             [
              0.8888888888888888,
              "#fdca26"
             ],
             [
              1,
              "#f0f921"
             ]
            ],
            "type": "contour"
           }
          ],
          "contourcarpet": [
           {
            "colorbar": {
             "outlinewidth": 0,
             "ticks": ""
            },
            "type": "contourcarpet"
           }
          ],
          "heatmap": [
           {
            "colorbar": {
             "outlinewidth": 0,
             "ticks": ""
            },
            "colorscale": [
             [
              0,
              "#0d0887"
             ],
             [
              0.1111111111111111,
              "#46039f"
             ],
             [
              0.2222222222222222,
              "#7201a8"
             ],
             [
              0.3333333333333333,
              "#9c179e"
             ],
             [
              0.4444444444444444,
              "#bd3786"
             ],
             [
              0.5555555555555556,
              "#d8576b"
             ],
             [
              0.6666666666666666,
              "#ed7953"
             ],
             [
              0.7777777777777778,
              "#fb9f3a"
             ],
             [
              0.8888888888888888,
              "#fdca26"
             ],
             [
              1,
              "#f0f921"
             ]
            ],
            "type": "heatmap"
           }
          ],
          "heatmapgl": [
           {
            "colorbar": {
             "outlinewidth": 0,
             "ticks": ""
            },
            "colorscale": [
             [
              0,
              "#0d0887"
             ],
             [
              0.1111111111111111,
              "#46039f"
             ],
             [
              0.2222222222222222,
              "#7201a8"
             ],
             [
              0.3333333333333333,
              "#9c179e"
             ],
             [
              0.4444444444444444,
              "#bd3786"
             ],
             [
              0.5555555555555556,
              "#d8576b"
             ],
             [
              0.6666666666666666,
              "#ed7953"
             ],
             [
              0.7777777777777778,
              "#fb9f3a"
             ],
             [
              0.8888888888888888,
              "#fdca26"
             ],
             [
              1,
              "#f0f921"
             ]
            ],
            "type": "heatmapgl"
           }
          ],
          "histogram": [
           {
            "marker": {
             "pattern": {
              "fillmode": "overlay",
              "size": 10,
              "solidity": 0.2
             }
            },
            "type": "histogram"
           }
          ],
          "histogram2d": [
           {
            "colorbar": {
             "outlinewidth": 0,
             "ticks": ""
            },
            "colorscale": [
             [
              0,
              "#0d0887"
             ],
             [
              0.1111111111111111,
              "#46039f"
             ],
             [
              0.2222222222222222,
              "#7201a8"
             ],
             [
              0.3333333333333333,
              "#9c179e"
             ],
             [
              0.4444444444444444,
              "#bd3786"
             ],
             [
              0.5555555555555556,
              "#d8576b"
             ],
             [
              0.6666666666666666,
              "#ed7953"
             ],
             [
              0.7777777777777778,
              "#fb9f3a"
             ],
             [
              0.8888888888888888,
              "#fdca26"
             ],
             [
              1,
              "#f0f921"
             ]
            ],
            "type": "histogram2d"
           }
          ],
          "histogram2dcontour": [
           {
            "colorbar": {
             "outlinewidth": 0,
             "ticks": ""
            },
            "colorscale": [
             [
              0,
              "#0d0887"
             ],
             [
              0.1111111111111111,
              "#46039f"
             ],
             [
              0.2222222222222222,
              "#7201a8"
             ],
             [
              0.3333333333333333,
              "#9c179e"
             ],
             [
              0.4444444444444444,
              "#bd3786"
             ],
             [
              0.5555555555555556,
              "#d8576b"
             ],
             [
              0.6666666666666666,
              "#ed7953"
             ],
             [
              0.7777777777777778,
              "#fb9f3a"
             ],
             [
              0.8888888888888888,
              "#fdca26"
             ],
             [
              1,
              "#f0f921"
             ]
            ],
            "type": "histogram2dcontour"
           }
          ],
          "mesh3d": [
           {
            "colorbar": {
             "outlinewidth": 0,
             "ticks": ""
            },
            "type": "mesh3d"
           }
          ],
          "parcoords": [
           {
            "line": {
             "colorbar": {
              "outlinewidth": 0,
              "ticks": ""
             }
            },
            "type": "parcoords"
           }
          ],
          "pie": [
           {
            "automargin": true,
            "type": "pie"
           }
          ],
          "scatter": [
           {
            "fillpattern": {
             "fillmode": "overlay",
             "size": 10,
             "solidity": 0.2
            },
            "type": "scatter"
           }
          ],
          "scatter3d": [
           {
            "line": {
             "colorbar": {
              "outlinewidth": 0,
              "ticks": ""
             }
            },
            "marker": {
             "colorbar": {
              "outlinewidth": 0,
              "ticks": ""
             }
            },
            "type": "scatter3d"
           }
          ],
          "scattercarpet": [
           {
            "marker": {
             "colorbar": {
              "outlinewidth": 0,
              "ticks": ""
             }
            },
            "type": "scattercarpet"
           }
          ],
          "scattergeo": [
           {
            "marker": {
             "colorbar": {
              "outlinewidth": 0,
              "ticks": ""
             }
            },
            "type": "scattergeo"
           }
          ],
          "scattergl": [
           {
            "marker": {
             "colorbar": {
              "outlinewidth": 0,
              "ticks": ""
             }
            },
            "type": "scattergl"
           }
          ],
          "scattermapbox": [
           {
            "marker": {
             "colorbar": {
              "outlinewidth": 0,
              "ticks": ""
             }
            },
            "type": "scattermapbox"
           }
          ],
          "scatterpolar": [
           {
            "marker": {
             "colorbar": {
              "outlinewidth": 0,
              "ticks": ""
             }
            },
            "type": "scatterpolar"
           }
          ],
          "scatterpolargl": [
           {
            "marker": {
             "colorbar": {
              "outlinewidth": 0,
              "ticks": ""
             }
            },
            "type": "scatterpolargl"
           }
          ],
          "scatterternary": [
           {
            "marker": {
             "colorbar": {
              "outlinewidth": 0,
              "ticks": ""
             }
            },
            "type": "scatterternary"
           }
          ],
          "surface": [
           {
            "colorbar": {
             "outlinewidth": 0,
             "ticks": ""
            },
            "colorscale": [
             [
              0,
              "#0d0887"
             ],
             [
              0.1111111111111111,
              "#46039f"
             ],
             [
              0.2222222222222222,
              "#7201a8"
             ],
             [
              0.3333333333333333,
              "#9c179e"
             ],
             [
              0.4444444444444444,
              "#bd3786"
             ],
             [
              0.5555555555555556,
              "#d8576b"
             ],
             [
              0.6666666666666666,
              "#ed7953"
             ],
             [
              0.7777777777777778,
              "#fb9f3a"
             ],
             [
              0.8888888888888888,
              "#fdca26"
             ],
             [
              1,
              "#f0f921"
             ]
            ],
            "type": "surface"
           }
          ],
          "table": [
           {
            "cells": {
             "fill": {
              "color": "#EBF0F8"
             },
             "line": {
              "color": "white"
             }
            },
            "header": {
             "fill": {
              "color": "#C8D4E3"
             },
             "line": {
              "color": "white"
             }
            },
            "type": "table"
           }
          ]
         },
         "layout": {
          "annotationdefaults": {
           "arrowcolor": "#2a3f5f",
           "arrowhead": 0,
           "arrowwidth": 1
          },
          "autotypenumbers": "strict",
          "coloraxis": {
           "colorbar": {
            "outlinewidth": 0,
            "ticks": ""
           }
          },
          "colorscale": {
           "diverging": [
            [
             0,
             "#8e0152"
            ],
            [
             0.1,
             "#c51b7d"
            ],
            [
             0.2,
             "#de77ae"
            ],
            [
             0.3,
             "#f1b6da"
            ],
            [
             0.4,
             "#fde0ef"
            ],
            [
             0.5,
             "#f7f7f7"
            ],
            [
             0.6,
             "#e6f5d0"
            ],
            [
             0.7,
             "#b8e186"
            ],
            [
             0.8,
             "#7fbc41"
            ],
            [
             0.9,
             "#4d9221"
            ],
            [
             1,
             "#276419"
            ]
           ],
           "sequential": [
            [
             0,
             "#0d0887"
            ],
            [
             0.1111111111111111,
             "#46039f"
            ],
            [
             0.2222222222222222,
             "#7201a8"
            ],
            [
             0.3333333333333333,
             "#9c179e"
            ],
            [
             0.4444444444444444,
             "#bd3786"
            ],
            [
             0.5555555555555556,
             "#d8576b"
            ],
            [
             0.6666666666666666,
             "#ed7953"
            ],
            [
             0.7777777777777778,
             "#fb9f3a"
            ],
            [
             0.8888888888888888,
             "#fdca26"
            ],
            [
             1,
             "#f0f921"
            ]
           ],
           "sequentialminus": [
            [
             0,
             "#0d0887"
            ],
            [
             0.1111111111111111,
             "#46039f"
            ],
            [
             0.2222222222222222,
             "#7201a8"
            ],
            [
             0.3333333333333333,
             "#9c179e"
            ],
            [
             0.4444444444444444,
             "#bd3786"
            ],
            [
             0.5555555555555556,
             "#d8576b"
            ],
            [
             0.6666666666666666,
             "#ed7953"
            ],
            [
             0.7777777777777778,
             "#fb9f3a"
            ],
            [
             0.8888888888888888,
             "#fdca26"
            ],
            [
             1,
             "#f0f921"
            ]
           ]
          },
          "colorway": [
           "#636efa",
           "#EF553B",
           "#00cc96",
           "#ab63fa",
           "#FFA15A",
           "#19d3f3",
           "#FF6692",
           "#B6E880",
           "#FF97FF",
           "#FECB52"
          ],
          "font": {
           "color": "#2a3f5f"
          },
          "geo": {
           "bgcolor": "white",
           "lakecolor": "white",
           "landcolor": "#E5ECF6",
           "showlakes": true,
           "showland": true,
           "subunitcolor": "white"
          },
          "hoverlabel": {
           "align": "left"
          },
          "hovermode": "closest",
          "mapbox": {
           "style": "light"
          },
          "paper_bgcolor": "white",
          "plot_bgcolor": "#E5ECF6",
          "polar": {
           "angularaxis": {
            "gridcolor": "white",
            "linecolor": "white",
            "ticks": ""
           },
           "bgcolor": "#E5ECF6",
           "radialaxis": {
            "gridcolor": "white",
            "linecolor": "white",
            "ticks": ""
           }
          },
          "scene": {
           "xaxis": {
            "backgroundcolor": "#E5ECF6",
            "gridcolor": "white",
            "gridwidth": 2,
            "linecolor": "white",
            "showbackground": true,
            "ticks": "",
            "zerolinecolor": "white"
           },
           "yaxis": {
            "backgroundcolor": "#E5ECF6",
            "gridcolor": "white",
            "gridwidth": 2,
            "linecolor": "white",
            "showbackground": true,
            "ticks": "",
            "zerolinecolor": "white"
           },
           "zaxis": {
            "backgroundcolor": "#E5ECF6",
            "gridcolor": "white",
            "gridwidth": 2,
            "linecolor": "white",
            "showbackground": true,
            "ticks": "",
            "zerolinecolor": "white"
           }
          },
          "shapedefaults": {
           "line": {
            "color": "#2a3f5f"
           }
          },
          "ternary": {
           "aaxis": {
            "gridcolor": "white",
            "linecolor": "white",
            "ticks": ""
           },
           "baxis": {
            "gridcolor": "white",
            "linecolor": "white",
            "ticks": ""
           },
           "bgcolor": "#E5ECF6",
           "caxis": {
            "gridcolor": "white",
            "linecolor": "white",
            "ticks": ""
           }
          },
          "title": {
           "x": 0.05
          },
          "xaxis": {
           "automargin": true,
           "gridcolor": "white",
           "linecolor": "white",
           "ticks": "",
           "title": {
            "standoff": 15
           },
           "zerolinecolor": "white",
           "zerolinewidth": 2
          },
          "yaxis": {
           "automargin": true,
           "gridcolor": "white",
           "linecolor": "white",
           "ticks": "",
           "title": {
            "standoff": 15
           },
           "zerolinecolor": "white",
           "zerolinewidth": 2
          }
         }
        },
        "title": {
         "text": "Total output"
        },
        "xaxis": {
         "anchor": "y",
         "domain": [
          0,
          1
         ],
         "title": {
          "text": "NO_inventory"
         }
        },
        "yaxis": {
         "anchor": "x",
         "domain": [
          0,
          1
         ],
         "title": {
          "text": "Total_output"
         }
        }
       }
      }
     },
     "metadata": {},
     "output_type": "display_data"
    }
   ],
   "source": [
    "df['NO_inventory'] = df['NO_inventory'].astype(int).astype(str)\n",
    "\n",
    "fig = px.line(df, x = \"NO_inventory\", y = \"Total_output\", title = \"Total output\")\n",
    "fig.show()"
   ]
  }
 ],
 "metadata": {
  "kernelspec": {
   "display_name": "Python 3.9.15 ('da')",
   "language": "python",
   "name": "python3"
  },
  "language_info": {
   "codemirror_mode": {
    "name": "ipython",
    "version": 3
   },
   "file_extension": ".py",
   "mimetype": "text/x-python",
   "name": "python",
   "nbconvert_exporter": "python",
   "pygments_lexer": "ipython3",
   "version": "3.9.15"
  },
  "orig_nbformat": 4,
  "vscode": {
   "interpreter": {
    "hash": "4e2a8d64e7ffb59922116bf2b76f6cd1dc2829a8c191a52212b13727f5f36342"
   }
  }
 },
 "nbformat": 4,
 "nbformat_minor": 2
}
