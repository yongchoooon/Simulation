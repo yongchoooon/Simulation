{
 "cells": [
  {
   "cell_type": "code",
   "execution_count": 7,
   "metadata": {},
   "outputs": [],
   "source": [
    "import pandas as pd\n",
    "import matplotlib.pyplot as plt\n",
    "import plotly.graph_objects as go\n",
    "import plotly.express as px\n",
    "\n",
    "df = pd.DataFrame(columns = ['NO_inventory', 'Total_output', 'Avg_working_steps', 'Avg_working_counts', 'Avg_cycle_steps'])"
   ]
  },
  {
   "cell_type": "code",
   "execution_count": 8,
   "metadata": {},
   "outputs": [],
   "source": [
    "def make_df(i, output, working_steps, working_counts):\n",
    "    df.loc[i] = [(60 - i*4 + 4), sum(output), round(sum(working_steps) / 6, 2), round(sum(working_counts) / 6, 2), round(sum(working_steps) / sum(working_counts), 2)]\n",
    "    df['NO_inventory'] = df['NO_inventory'].astype(int).astype(str)\n",
    "    df['Total_output'] = df['Total_output'].astype(int)"
   ]
  },
  {
   "cell_type": "markdown",
   "metadata": {},
   "source": [
    "## Experiment 1 - 모든 줄을 안쪽에서부터 4개씩 줄이기"
   ]
  },
  {
   "cell_type": "code",
   "execution_count": 9,
   "metadata": {},
   "outputs": [],
   "source": [
    "## Experiment 1-1 - Inventory 60\n",
    "output = [175, 170, 150, 145, 155, 145]\n",
    "working_steps = [2855, 2799, 2858, 2834, 2804, 2844]\n",
    "working_counts = [35, 34, 30, 29, 31, 29]\n",
    "make_df(1, output, working_steps, working_counts)\n",
    "\n",
    "## Experiment 1-2 - Inventory 56\n",
    "output = [165, 185, 160, 160, 175, 170]\n",
    "working_steps = [2833, 2826, 2824, 2770, 2825, 2873]\n",
    "working_counts = [33, 37, 32, 32, 35, 34]\n",
    "make_df(2, output, working_steps, working_counts)\n",
    "\n",
    "## Experiment 1-3 - Inventory 52\n",
    "output = [180, 185, 165, 175, 170, 165]\n",
    "working_steps = [2819, 2803, 2843, 2844, 2806, 2863]\n",
    "working_counts = [36, 37, 33, 35, 34, 33]\n",
    "make_df(3, output, working_steps, working_counts)\n",
    "\n",
    "## Experiment 1-4 - Inventory 48\n",
    "output = [215, 190, 185, 185, 165, 170]\n",
    "working_steps = [2794, 2809, 2797, 2790, 2846, 2855]\n",
    "working_counts = [43, 38, 37, 37, 33, 34]\n",
    "make_df(4, output, working_steps, working_counts)\n",
    "\n",
    "## Experiment 1-5 - Inventory 44\n",
    "output = [190, 185, 195, 190, 180, 170]\n",
    "working_steps = [2834, 2812, 2832, 2827, 2873, 2826]\n",
    "working_counts = [38, 37, 39, 38, 36, 34]\n",
    "make_df(5, output, working_steps, working_counts)\n",
    "\n",
    "## Experiment 1-6 - Inventory 40\n",
    "output = [205, 200, 205, 185, 175, 175]\n",
    "working_steps = [2800, 2836, 2823, 2829, 2872, 2813]\n",
    "working_counts = [41, 40, 41, 37, 35, 35]\n",
    "make_df(6, output, working_steps, working_counts)\n",
    "\n",
    "## Experiment 1-7 - Inventory 36\n",
    "output = [215, 225, 195, 210, 210, 180]\n",
    "working_steps = [2822, 2792, 2830, 2831, 2808, 2838]\n",
    "working_counts = [43, 45, 39, 42, 42, 36]\n",
    "make_df(7, output, working_steps, working_counts)\n",
    "\n",
    "## Experiment 1-8 - Inventory 32\n",
    "output = [205, 210, 210, 195, 200, 190]\n",
    "working_steps = [2861, 2845, 2808, 2861, 2831, 2838]\n",
    "working_counts = [41, 42, 42, 39, 40, 38]\n",
    "make_df(8, output, working_steps, working_counts)\n",
    "\n",
    "## Experiment 1-9 - Inventory 28\n",
    "output = [220, 205, 225, 215, 210, 215]\n",
    "working_steps = [2837, 2856, 2829, 2836, 2818, 2860]\n",
    "working_counts = [44, 41, 45, 43, 42, 43]\n",
    "make_df(9, output, working_steps, working_counts)\n",
    "\n",
    "## Experiment 1-10 - Inventory 24\n",
    "output = [225, 220, 220, 225, 210, 220]\n",
    "working_steps = [2821, 2818, 2854, 2832, 2836, 2840]\n",
    "working_counts = [45, 44, 44, 45, 42, 44]\n",
    "make_df(10, output, working_steps, working_counts)\n",
    "\n",
    "## Experiment 1-11 - Inventory 20\n",
    "output = [235, 220, 220, 210, 215, 210]\n",
    "working_steps = [2823, 2819, 2860, 2815, 2876, 2832]\n",
    "working_counts = [47, 44, 44, 42, 43, 42]\n",
    "make_df(11, output, working_steps, working_counts)\n",
    "\n",
    "## Experiment 1-12 - Inventory 16\n",
    "output = [220, 235, 215, 230, 210, 210]\n",
    "working_steps = [2856, 2827, 2856, 2845, 2834, 2865]\n",
    "working_counts = [44, 47, 43, 46, 42, 42]\n",
    "make_df(12, output, working_steps, working_counts)\n",
    "\n",
    "## Experiment 1-13 - Inventory 12\n",
    "output = [245, 245, 235, 230, 225, 220]\n",
    "working_steps = [2837, 2779, 2839, 2837, 2858, 2847]\n",
    "working_counts = [49, 49, 47, 46, 45, 44]\n",
    "make_df(13, output, working_steps, working_counts)\n",
    "\n",
    "## Experiment 1-14 - Inventory 8\n",
    "output = [195, 200, 195, 185, 185, 180]\n",
    "working_steps = [2897, 2854, 2890, 2889, 2876, 2898]\n",
    "working_counts = [39, 40, 39, 37, 37, 36]\n",
    "make_df(14, output, working_steps, working_counts)"
   ]
  },
  {
   "cell_type": "code",
   "execution_count": 12,
   "metadata": {},
   "outputs": [
    {
     "data": {
      "text/html": [
       "<div>\n",
       "<style scoped>\n",
       "    .dataframe tbody tr th:only-of-type {\n",
       "        vertical-align: middle;\n",
       "    }\n",
       "\n",
       "    .dataframe tbody tr th {\n",
       "        vertical-align: top;\n",
       "    }\n",
       "\n",
       "    .dataframe thead th {\n",
       "        text-align: right;\n",
       "    }\n",
       "</style>\n",
       "<table border=\"1\" class=\"dataframe\">\n",
       "  <thead>\n",
       "    <tr style=\"text-align: right;\">\n",
       "      <th></th>\n",
       "      <th>NO_inventory</th>\n",
       "      <th>Total_output</th>\n",
       "      <th>Avg_working_steps</th>\n",
       "      <th>Avg_working_counts</th>\n",
       "      <th>Avg_cycle_steps</th>\n",
       "    </tr>\n",
       "  </thead>\n",
       "  <tbody>\n",
       "    <tr>\n",
       "      <th>1</th>\n",
       "      <td>60</td>\n",
       "      <td>940</td>\n",
       "      <td>2832.33</td>\n",
       "      <td>31.33</td>\n",
       "      <td>90.39</td>\n",
       "    </tr>\n",
       "    <tr>\n",
       "      <th>2</th>\n",
       "      <td>56</td>\n",
       "      <td>1015</td>\n",
       "      <td>2825.17</td>\n",
       "      <td>33.83</td>\n",
       "      <td>83.50</td>\n",
       "    </tr>\n",
       "    <tr>\n",
       "      <th>3</th>\n",
       "      <td>52</td>\n",
       "      <td>1040</td>\n",
       "      <td>2829.67</td>\n",
       "      <td>34.67</td>\n",
       "      <td>81.62</td>\n",
       "    </tr>\n",
       "    <tr>\n",
       "      <th>4</th>\n",
       "      <td>48</td>\n",
       "      <td>1110</td>\n",
       "      <td>2815.17</td>\n",
       "      <td>37.00</td>\n",
       "      <td>76.09</td>\n",
       "    </tr>\n",
       "    <tr>\n",
       "      <th>5</th>\n",
       "      <td>44</td>\n",
       "      <td>1110</td>\n",
       "      <td>2834.00</td>\n",
       "      <td>37.00</td>\n",
       "      <td>76.59</td>\n",
       "    </tr>\n",
       "    <tr>\n",
       "      <th>6</th>\n",
       "      <td>40</td>\n",
       "      <td>1145</td>\n",
       "      <td>2828.83</td>\n",
       "      <td>38.17</td>\n",
       "      <td>74.12</td>\n",
       "    </tr>\n",
       "    <tr>\n",
       "      <th>7</th>\n",
       "      <td>36</td>\n",
       "      <td>1235</td>\n",
       "      <td>2820.17</td>\n",
       "      <td>41.17</td>\n",
       "      <td>68.51</td>\n",
       "    </tr>\n",
       "    <tr>\n",
       "      <th>8</th>\n",
       "      <td>32</td>\n",
       "      <td>1210</td>\n",
       "      <td>2840.67</td>\n",
       "      <td>40.33</td>\n",
       "      <td>70.43</td>\n",
       "    </tr>\n",
       "    <tr>\n",
       "      <th>9</th>\n",
       "      <td>28</td>\n",
       "      <td>1290</td>\n",
       "      <td>2839.33</td>\n",
       "      <td>43.00</td>\n",
       "      <td>66.03</td>\n",
       "    </tr>\n",
       "    <tr>\n",
       "      <th>10</th>\n",
       "      <td>24</td>\n",
       "      <td>1320</td>\n",
       "      <td>2833.50</td>\n",
       "      <td>44.00</td>\n",
       "      <td>64.40</td>\n",
       "    </tr>\n",
       "    <tr>\n",
       "      <th>11</th>\n",
       "      <td>20</td>\n",
       "      <td>1310</td>\n",
       "      <td>2837.50</td>\n",
       "      <td>43.67</td>\n",
       "      <td>64.98</td>\n",
       "    </tr>\n",
       "    <tr>\n",
       "      <th>12</th>\n",
       "      <td>16</td>\n",
       "      <td>1320</td>\n",
       "      <td>2847.17</td>\n",
       "      <td>44.00</td>\n",
       "      <td>64.71</td>\n",
       "    </tr>\n",
       "    <tr>\n",
       "      <th>13</th>\n",
       "      <td>12</td>\n",
       "      <td>1400</td>\n",
       "      <td>2832.83</td>\n",
       "      <td>46.67</td>\n",
       "      <td>60.70</td>\n",
       "    </tr>\n",
       "    <tr>\n",
       "      <th>14</th>\n",
       "      <td>8</td>\n",
       "      <td>1140</td>\n",
       "      <td>2884.00</td>\n",
       "      <td>38.00</td>\n",
       "      <td>75.89</td>\n",
       "    </tr>\n",
       "  </tbody>\n",
       "</table>\n",
       "</div>"
      ],
      "text/plain": [
       "   NO_inventory  Total_output  Avg_working_steps  Avg_working_counts  \\\n",
       "1            60           940            2832.33               31.33   \n",
       "2            56          1015            2825.17               33.83   \n",
       "3            52          1040            2829.67               34.67   \n",
       "4            48          1110            2815.17               37.00   \n",
       "5            44          1110            2834.00               37.00   \n",
       "6            40          1145            2828.83               38.17   \n",
       "7            36          1235            2820.17               41.17   \n",
       "8            32          1210            2840.67               40.33   \n",
       "9            28          1290            2839.33               43.00   \n",
       "10           24          1320            2833.50               44.00   \n",
       "11           20          1310            2837.50               43.67   \n",
       "12           16          1320            2847.17               44.00   \n",
       "13           12          1400            2832.83               46.67   \n",
       "14            8          1140            2884.00               38.00   \n",
       "\n",
       "    Avg_cycle_steps  \n",
       "1             90.39  \n",
       "2             83.50  \n",
       "3             81.62  \n",
       "4             76.09  \n",
       "5             76.59  \n",
       "6             74.12  \n",
       "7             68.51  \n",
       "8             70.43  \n",
       "9             66.03  \n",
       "10            64.40  \n",
       "11            64.98  \n",
       "12            64.71  \n",
       "13            60.70  \n",
       "14            75.89  "
      ]
     },
     "execution_count": 12,
     "metadata": {},
     "output_type": "execute_result"
    }
   ],
   "source": [
    "df"
   ]
  },
  {
   "cell_type": "code",
   "execution_count": 11,
   "metadata": {},
   "outputs": [
    {
     "data": {
      "application/vnd.plotly.v1+json": {
       "config": {
        "plotlyServerURL": "https://plot.ly"
       },
       "data": [
        {
         "hovertemplate": "NO_inventory=%{x}<br>Total_output=%{y}<extra></extra>",
         "legendgroup": "",
         "line": {
          "color": "#636efa",
          "dash": "solid"
         },
         "marker": {
          "symbol": "circle"
         },
         "mode": "lines",
         "name": "",
         "orientation": "v",
         "showlegend": false,
         "type": "scatter",
         "x": [
          "60",
          "56",
          "52",
          "48",
          "44",
          "40",
          "36",
          "32",
          "28",
          "24",
          "20",
          "16",
          "12",
          "8"
         ],
         "xaxis": "x",
         "y": [
          940,
          1015,
          1040,
          1110,
          1110,
          1145,
          1235,
          1210,
          1290,
          1320,
          1310,
          1320,
          1400,
          1140
         ],
         "yaxis": "y"
        }
       ],
       "layout": {
        "legend": {
         "tracegroupgap": 0
        },
        "template": {
         "data": {
          "bar": [
           {
            "error_x": {
             "color": "#2a3f5f"
            },
            "error_y": {
             "color": "#2a3f5f"
            },
            "marker": {
             "line": {
              "color": "#E5ECF6",
              "width": 0.5
             },
             "pattern": {
              "fillmode": "overlay",
              "size": 10,
              "solidity": 0.2
             }
            },
            "type": "bar"
           }
          ],
          "barpolar": [
           {
            "marker": {
             "line": {
              "color": "#E5ECF6",
              "width": 0.5
             },
             "pattern": {
              "fillmode": "overlay",
              "size": 10,
              "solidity": 0.2
             }
            },
            "type": "barpolar"
           }
          ],
          "carpet": [
           {
            "aaxis": {
             "endlinecolor": "#2a3f5f",
             "gridcolor": "white",
             "linecolor": "white",
             "minorgridcolor": "white",
             "startlinecolor": "#2a3f5f"
            },
            "baxis": {
             "endlinecolor": "#2a3f5f",
             "gridcolor": "white",
             "linecolor": "white",
             "minorgridcolor": "white",
             "startlinecolor": "#2a3f5f"
            },
            "type": "carpet"
           }
          ],
          "choropleth": [
           {
            "colorbar": {
             "outlinewidth": 0,
             "ticks": ""
            },
            "type": "choropleth"
           }
          ],
          "contour": [
           {
            "colorbar": {
             "outlinewidth": 0,
             "ticks": ""
            },
            "colorscale": [
             [
              0,
              "#0d0887"
             ],
             [
              0.1111111111111111,
              "#46039f"
             ],
             [
              0.2222222222222222,
              "#7201a8"
             ],
             [
              0.3333333333333333,
              "#9c179e"
             ],
             [
              0.4444444444444444,
              "#bd3786"
             ],
             [
              0.5555555555555556,
              "#d8576b"
             ],
             [
              0.6666666666666666,
              "#ed7953"
             ],
             [
              0.7777777777777778,
              "#fb9f3a"
             ],
             [
              0.8888888888888888,
              "#fdca26"
             ],
             [
              1,
              "#f0f921"
             ]
            ],
            "type": "contour"
           }
          ],
          "contourcarpet": [
           {
            "colorbar": {
             "outlinewidth": 0,
             "ticks": ""
            },
            "type": "contourcarpet"
           }
          ],
          "heatmap": [
           {
            "colorbar": {
             "outlinewidth": 0,
             "ticks": ""
            },
            "colorscale": [
             [
              0,
              "#0d0887"
             ],
             [
              0.1111111111111111,
              "#46039f"
             ],
             [
              0.2222222222222222,
              "#7201a8"
             ],
             [
              0.3333333333333333,
              "#9c179e"
             ],
             [
              0.4444444444444444,
              "#bd3786"
             ],
             [
              0.5555555555555556,
              "#d8576b"
             ],
             [
              0.6666666666666666,
              "#ed7953"
             ],
             [
              0.7777777777777778,
              "#fb9f3a"
             ],
             [
              0.8888888888888888,
              "#fdca26"
             ],
             [
              1,
              "#f0f921"
             ]
            ],
            "type": "heatmap"
           }
          ],
          "heatmapgl": [
           {
            "colorbar": {
             "outlinewidth": 0,
             "ticks": ""
            },
            "colorscale": [
             [
              0,
              "#0d0887"
             ],
             [
              0.1111111111111111,
              "#46039f"
             ],
             [
              0.2222222222222222,
              "#7201a8"
             ],
             [
              0.3333333333333333,
              "#9c179e"
             ],
             [
              0.4444444444444444,
              "#bd3786"
             ],
             [
              0.5555555555555556,
              "#d8576b"
             ],
             [
              0.6666666666666666,
              "#ed7953"
             ],
             [
              0.7777777777777778,
              "#fb9f3a"
             ],
             [
              0.8888888888888888,
              "#fdca26"
             ],
             [
              1,
              "#f0f921"
             ]
            ],
            "type": "heatmapgl"
           }
          ],
          "histogram": [
           {
            "marker": {
             "pattern": {
              "fillmode": "overlay",
              "size": 10,
              "solidity": 0.2
             }
            },
            "type": "histogram"
           }
          ],
          "histogram2d": [
           {
            "colorbar": {
             "outlinewidth": 0,
             "ticks": ""
            },
            "colorscale": [
             [
              0,
              "#0d0887"
             ],
             [
              0.1111111111111111,
              "#46039f"
             ],
             [
              0.2222222222222222,
              "#7201a8"
             ],
             [
              0.3333333333333333,
              "#9c179e"
             ],
             [
              0.4444444444444444,
              "#bd3786"
             ],
             [
              0.5555555555555556,
              "#d8576b"
             ],
             [
              0.6666666666666666,
              "#ed7953"
             ],
             [
              0.7777777777777778,
              "#fb9f3a"
             ],
             [
              0.8888888888888888,
              "#fdca26"
             ],
             [
              1,
              "#f0f921"
             ]
            ],
            "type": "histogram2d"
           }
          ],
          "histogram2dcontour": [
           {
            "colorbar": {
             "outlinewidth": 0,
             "ticks": ""
            },
            "colorscale": [
             [
              0,
              "#0d0887"
             ],
             [
              0.1111111111111111,
              "#46039f"
             ],
             [
              0.2222222222222222,
              "#7201a8"
             ],
             [
              0.3333333333333333,
              "#9c179e"
             ],
             [
              0.4444444444444444,
              "#bd3786"
             ],
             [
              0.5555555555555556,
              "#d8576b"
             ],
             [
              0.6666666666666666,
              "#ed7953"
             ],
             [
              0.7777777777777778,
              "#fb9f3a"
             ],
             [
              0.8888888888888888,
              "#fdca26"
             ],
             [
              1,
              "#f0f921"
             ]
            ],
            "type": "histogram2dcontour"
           }
          ],
          "mesh3d": [
           {
            "colorbar": {
             "outlinewidth": 0,
             "ticks": ""
            },
            "type": "mesh3d"
           }
          ],
          "parcoords": [
           {
            "line": {
             "colorbar": {
              "outlinewidth": 0,
              "ticks": ""
             }
            },
            "type": "parcoords"
           }
          ],
          "pie": [
           {
            "automargin": true,
            "type": "pie"
           }
          ],
          "scatter": [
           {
            "fillpattern": {
             "fillmode": "overlay",
             "size": 10,
             "solidity": 0.2
            },
            "type": "scatter"
           }
          ],
          "scatter3d": [
           {
            "line": {
             "colorbar": {
              "outlinewidth": 0,
              "ticks": ""
             }
            },
            "marker": {
             "colorbar": {
              "outlinewidth": 0,
              "ticks": ""
             }
            },
            "type": "scatter3d"
           }
          ],
          "scattercarpet": [
           {
            "marker": {
             "colorbar": {
              "outlinewidth": 0,
              "ticks": ""
             }
            },
            "type": "scattercarpet"
           }
          ],
          "scattergeo": [
           {
            "marker": {
             "colorbar": {
              "outlinewidth": 0,
              "ticks": ""
             }
            },
            "type": "scattergeo"
           }
          ],
          "scattergl": [
           {
            "marker": {
             "colorbar": {
              "outlinewidth": 0,
              "ticks": ""
             }
            },
            "type": "scattergl"
           }
          ],
          "scattermapbox": [
           {
            "marker": {
             "colorbar": {
              "outlinewidth": 0,
              "ticks": ""
             }
            },
            "type": "scattermapbox"
           }
          ],
          "scatterpolar": [
           {
            "marker": {
             "colorbar": {
              "outlinewidth": 0,
              "ticks": ""
             }
            },
            "type": "scatterpolar"
           }
          ],
          "scatterpolargl": [
           {
            "marker": {
             "colorbar": {
              "outlinewidth": 0,
              "ticks": ""
             }
            },
            "type": "scatterpolargl"
           }
          ],
          "scatterternary": [
           {
            "marker": {
             "colorbar": {
              "outlinewidth": 0,
              "ticks": ""
             }
            },
            "type": "scatterternary"
           }
          ],
          "surface": [
           {
            "colorbar": {
             "outlinewidth": 0,
             "ticks": ""
            },
            "colorscale": [
             [
              0,
              "#0d0887"
             ],
             [
              0.1111111111111111,
              "#46039f"
             ],
             [
              0.2222222222222222,
              "#7201a8"
             ],
             [
              0.3333333333333333,
              "#9c179e"
             ],
             [
              0.4444444444444444,
              "#bd3786"
             ],
             [
              0.5555555555555556,
              "#d8576b"
             ],
             [
              0.6666666666666666,
              "#ed7953"
             ],
             [
              0.7777777777777778,
              "#fb9f3a"
             ],
             [
              0.8888888888888888,
              "#fdca26"
             ],
             [
              1,
              "#f0f921"
             ]
            ],
            "type": "surface"
           }
          ],
          "table": [
           {
            "cells": {
             "fill": {
              "color": "#EBF0F8"
             },
             "line": {
              "color": "white"
             }
            },
            "header": {
             "fill": {
              "color": "#C8D4E3"
             },
             "line": {
              "color": "white"
             }
            },
            "type": "table"
           }
          ]
         },
         "layout": {
          "annotationdefaults": {
           "arrowcolor": "#2a3f5f",
           "arrowhead": 0,
           "arrowwidth": 1
          },
          "autotypenumbers": "strict",
          "coloraxis": {
           "colorbar": {
            "outlinewidth": 0,
            "ticks": ""
           }
          },
          "colorscale": {
           "diverging": [
            [
             0,
             "#8e0152"
            ],
            [
             0.1,
             "#c51b7d"
            ],
            [
             0.2,
             "#de77ae"
            ],
            [
             0.3,
             "#f1b6da"
            ],
            [
             0.4,
             "#fde0ef"
            ],
            [
             0.5,
             "#f7f7f7"
            ],
            [
             0.6,
             "#e6f5d0"
            ],
            [
             0.7,
             "#b8e186"
            ],
            [
             0.8,
             "#7fbc41"
            ],
            [
             0.9,
             "#4d9221"
            ],
            [
             1,
             "#276419"
            ]
           ],
           "sequential": [
            [
             0,
             "#0d0887"
            ],
            [
             0.1111111111111111,
             "#46039f"
            ],
            [
             0.2222222222222222,
             "#7201a8"
            ],
            [
             0.3333333333333333,
             "#9c179e"
            ],
            [
             0.4444444444444444,
             "#bd3786"
            ],
            [
             0.5555555555555556,
             "#d8576b"
            ],
            [
             0.6666666666666666,
             "#ed7953"
            ],
            [
             0.7777777777777778,
             "#fb9f3a"
            ],
            [
             0.8888888888888888,
             "#fdca26"
            ],
            [
             1,
             "#f0f921"
            ]
           ],
           "sequentialminus": [
            [
             0,
             "#0d0887"
            ],
            [
             0.1111111111111111,
             "#46039f"
            ],
            [
             0.2222222222222222,
             "#7201a8"
            ],
            [
             0.3333333333333333,
             "#9c179e"
            ],
            [
             0.4444444444444444,
             "#bd3786"
            ],
            [
             0.5555555555555556,
             "#d8576b"
            ],
            [
             0.6666666666666666,
             "#ed7953"
            ],
            [
             0.7777777777777778,
             "#fb9f3a"
            ],
            [
             0.8888888888888888,
             "#fdca26"
            ],
            [
             1,
             "#f0f921"
            ]
           ]
          },
          "colorway": [
           "#636efa",
           "#EF553B",
           "#00cc96",
           "#ab63fa",
           "#FFA15A",
           "#19d3f3",
           "#FF6692",
           "#B6E880",
           "#FF97FF",
           "#FECB52"
          ],
          "font": {
           "color": "#2a3f5f"
          },
          "geo": {
           "bgcolor": "white",
           "lakecolor": "white",
           "landcolor": "#E5ECF6",
           "showlakes": true,
           "showland": true,
           "subunitcolor": "white"
          },
          "hoverlabel": {
           "align": "left"
          },
          "hovermode": "closest",
          "mapbox": {
           "style": "light"
          },
          "paper_bgcolor": "white",
          "plot_bgcolor": "#E5ECF6",
          "polar": {
           "angularaxis": {
            "gridcolor": "white",
            "linecolor": "white",
            "ticks": ""
           },
           "bgcolor": "#E5ECF6",
           "radialaxis": {
            "gridcolor": "white",
            "linecolor": "white",
            "ticks": ""
           }
          },
          "scene": {
           "xaxis": {
            "backgroundcolor": "#E5ECF6",
            "gridcolor": "white",
            "gridwidth": 2,
            "linecolor": "white",
            "showbackground": true,
            "ticks": "",
            "zerolinecolor": "white"
           },
           "yaxis": {
            "backgroundcolor": "#E5ECF6",
            "gridcolor": "white",
            "gridwidth": 2,
            "linecolor": "white",
            "showbackground": true,
            "ticks": "",
            "zerolinecolor": "white"
           },
           "zaxis": {
            "backgroundcolor": "#E5ECF6",
            "gridcolor": "white",
            "gridwidth": 2,
            "linecolor": "white",
            "showbackground": true,
            "ticks": "",
            "zerolinecolor": "white"
           }
          },
          "shapedefaults": {
           "line": {
            "color": "#2a3f5f"
           }
          },
          "ternary": {
           "aaxis": {
            "gridcolor": "white",
            "linecolor": "white",
            "ticks": ""
           },
           "baxis": {
            "gridcolor": "white",
            "linecolor": "white",
            "ticks": ""
           },
           "bgcolor": "#E5ECF6",
           "caxis": {
            "gridcolor": "white",
            "linecolor": "white",
            "ticks": ""
           }
          },
          "title": {
           "x": 0.05
          },
          "xaxis": {
           "automargin": true,
           "gridcolor": "white",
           "linecolor": "white",
           "ticks": "",
           "title": {
            "standoff": 15
           },
           "zerolinecolor": "white",
           "zerolinewidth": 2
          },
          "yaxis": {
           "automargin": true,
           "gridcolor": "white",
           "linecolor": "white",
           "ticks": "",
           "title": {
            "standoff": 15
           },
           "zerolinecolor": "white",
           "zerolinewidth": 2
          }
         }
        },
        "title": {
         "text": "Total output"
        },
        "xaxis": {
         "anchor": "y",
         "domain": [
          0,
          1
         ],
         "title": {
          "text": "NO_inventory"
         }
        },
        "yaxis": {
         "anchor": "x",
         "domain": [
          0,
          1
         ],
         "title": {
          "text": "Total_output"
         }
        }
       }
      }
     },
     "metadata": {},
     "output_type": "display_data"
    }
   ],
   "source": [
    "df['NO_inventory'] = df['NO_inventory'].astype(int).astype(str)\n",
    "\n",
    "fig = px.line(df, x = \"NO_inventory\", y = \"Total_output\", title = \"Total output\")\n",
    "fig.show()"
   ]
  }
 ],
 "metadata": {
  "kernelspec": {
   "display_name": "Python 3.9.15 ('da')",
   "language": "python",
   "name": "python3"
  },
  "language_info": {
   "codemirror_mode": {
    "name": "ipython",
    "version": 3
   },
   "file_extension": ".py",
   "mimetype": "text/x-python",
   "name": "python",
   "nbconvert_exporter": "python",
   "pygments_lexer": "ipython3",
   "version": "3.9.15"
  },
  "orig_nbformat": 4,
  "vscode": {
   "interpreter": {
    "hash": "4e2a8d64e7ffb59922116bf2b76f6cd1dc2829a8c191a52212b13727f5f36342"
   }
  }
 },
 "nbformat": 4,
 "nbformat_minor": 2
}
